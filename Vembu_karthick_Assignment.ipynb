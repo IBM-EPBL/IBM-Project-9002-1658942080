{
 "cells": [
  {
   "cell_type": "code",
   "execution_count": 1,
   "id": "6a5abc41",
   "metadata": {},
   "outputs": [],
   "source": [
    "# import the necessary libraries\n",
    "import numpy as np\n",
    "import pandas as pd"
   ]
  },
  {
   "cell_type": "markdown",
   "id": "47b4773a",
   "metadata": {},
   "source": [
    "# 1.Split string"
   ]
  },
  {
   "cell_type": "code",
   "execution_count": 2,
   "id": "a2d4483c",
   "metadata": {},
   "outputs": [
    {
     "data": {
      "text/plain": [
       "['Hey', 'I', 'am', 'Vembu', 'Karthik', 'T']"
      ]
     },
     "execution_count": 2,
     "metadata": {},
     "output_type": "execute_result"
    }
   ],
   "source": [
    "name= \"Hey I am Vembu Karthik T\"\n",
    "name.split()"
   ]
  },
  {
   "cell_type": "markdown",
   "id": "09401996",
   "metadata": {},
   "source": [
    "# 2.Formatted string"
   ]
  },
  {
   "cell_type": "code",
   "execution_count": 3,
   "id": "f1796216",
   "metadata": {},
   "outputs": [
    {
     "name": "stdout",
     "output_type": "stream",
     "text": [
      "Hi I am Vembu Karthick T from CSE\n"
     ]
    }
   ],
   "source": [
    "#We can format string by Built in function .format method.\n",
    "\n",
    "name=\"Vembu Karthick T\"\n",
    "dept=\"CSE\"\n",
    "print(\"Hi I am {name} from {dept}\".format(name=name,dept=dept))"
   ]
  },
  {
   "cell_type": "markdown",
   "id": "41ee44ab",
   "metadata": {},
   "source": [
    "# 3.Extract hello from nested dictionary"
   ]
  },
  {
   "cell_type": "code",
   "execution_count": 4,
   "id": "6c6932a3",
   "metadata": {},
   "outputs": [
    {
     "name": "stdout",
     "output_type": "stream",
     "text": [
      "hello\n"
     ]
    }
   ],
   "source": [
    "nested_dictionary = {\"k1\":[1,2,3,\n",
    "                   {\"tricky\":[\"oh\",\"man\",\"inception\",\n",
    "                              {\"target\":[1,2,3,\"hello\"]\n",
    "                              }]}]\n",
    "            }\n",
    "\n",
    "print(nested_dictionary[\"k1\"][3][\"tricky\"][3][\"target\"][3])"
   ]
  },
  {
   "cell_type": "markdown",
   "id": "223a5b28",
   "metadata": {},
   "source": [
    "# Numpy"
   ]
  },
  {
   "cell_type": "markdown",
   "id": "0c3c6f37",
   "metadata": {},
   "source": [
    "## 4.1 Create an array of zeros"
   ]
  },
  {
   "cell_type": "code",
   "execution_count": 5,
   "id": "1dcd9e81",
   "metadata": {},
   "outputs": [
    {
     "data": {
      "text/plain": [
       "array([0., 0., 0., 0., 0., 0., 0., 0., 0., 0., 0., 0.])"
      ]
     },
     "execution_count": 5,
     "metadata": {},
     "output_type": "execute_result"
    }
   ],
   "source": [
    "numpy_12 = np.zeros(12)\n",
    "numpy_12"
   ]
  },
  {
   "cell_type": "markdown",
   "id": "3fd8fe07",
   "metadata": {},
   "source": [
    "## 5.Numpy array of all the even integers from 10 to 60"
   ]
  },
  {
   "cell_type": "code",
   "execution_count": 6,
   "id": "7d95dfd1",
   "metadata": {},
   "outputs": [
    {
     "data": {
      "text/plain": [
       "array([10, 12, 14, 16, 18, 20, 22, 24, 26, 28, 30, 32, 34, 36, 38, 40, 42,\n",
       "       44, 46, 48, 50, 52, 54, 56, 58, 60])"
      ]
     },
     "execution_count": 6,
     "metadata": {},
     "output_type": "execute_result"
    }
   ],
   "source": [
    "np_even = np.arange(10,61,2)\n",
    "np_even"
   ]
  },
  {
   "cell_type": "markdown",
   "id": "a822530c",
   "metadata": {},
   "source": [
    "## 6. Create a 3x3 matrix"
   ]
  },
  {
   "cell_type": "code",
   "execution_count": 7,
   "id": "d92ed98e",
   "metadata": {},
   "outputs": [
    {
     "data": {
      "text/plain": [
       "array([[0, 1, 2],\n",
       "       [3, 4, 5],\n",
       "       [6, 7, 8]])"
      ]
     },
     "execution_count": 7,
     "metadata": {},
     "output_type": "execute_result"
    }
   ],
   "source": [
    "np_3d = np.arange(0,9).reshape(3,3)\n",
    "np_3d"
   ]
  },
  {
   "cell_type": "markdown",
   "id": "3b0ba0df",
   "metadata": {},
   "source": [
    "## 7.Concatenate two array"
   ]
  },
  {
   "cell_type": "code",
   "execution_count": 8,
   "id": "33db3803",
   "metadata": {},
   "outputs": [
    {
     "data": {
      "text/plain": [
       "array([1, 2, 3, 4, 5, 6])"
      ]
     },
     "execution_count": 8,
     "metadata": {},
     "output_type": "execute_result"
    }
   ],
   "source": [
    "num1 = np.array([1,2,3])\n",
    "num2 = np.array([4,5,6])\n",
    "concatenate = np.concatenate((num1, num2),axis=None)\n",
    "concatenate"
   ]
  },
  {
   "cell_type": "markdown",
   "id": "f0d6d290",
   "metadata": {},
   "source": [
    "## 8.Create a dataframe with 3 rows and 2 columns"
   ]
  },
  {
   "cell_type": "code",
   "execution_count": 9,
   "id": "1617c90c",
   "metadata": {},
   "outputs": [
    {
     "data": {
      "text/html": [
       "<div>\n",
       "<style scoped>\n",
       "    .dataframe tbody tr th:only-of-type {\n",
       "        vertical-align: middle;\n",
       "    }\n",
       "\n",
       "    .dataframe tbody tr th {\n",
       "        vertical-align: top;\n",
       "    }\n",
       "\n",
       "    .dataframe thead th {\n",
       "        text-align: right;\n",
       "    }\n",
       "</style>\n",
       "<table border=\"1\" class=\"dataframe\">\n",
       "  <thead>\n",
       "    <tr style=\"text-align: right;\">\n",
       "      <th></th>\n",
       "      <th>row1</th>\n",
       "      <th>row2</th>\n",
       "    </tr>\n",
       "  </thead>\n",
       "  <tbody>\n",
       "    <tr>\n",
       "      <th>0</th>\n",
       "      <td>0</td>\n",
       "      <td>3</td>\n",
       "    </tr>\n",
       "    <tr>\n",
       "      <th>1</th>\n",
       "      <td>1</td>\n",
       "      <td>2</td>\n",
       "    </tr>\n",
       "    <tr>\n",
       "      <th>2</th>\n",
       "      <td>5</td>\n",
       "      <td>3</td>\n",
       "    </tr>\n",
       "  </tbody>\n",
       "</table>\n",
       "</div>"
      ],
      "text/plain": [
       "   row1  row2\n",
       "0     0     3\n",
       "1     1     2\n",
       "2     5     3"
      ]
     },
     "execution_count": 9,
     "metadata": {},
     "output_type": "execute_result"
    }
   ],
   "source": [
    "rand_num = np.random.randint(10,size=(3,2))\n",
    "df = pd.DataFrame(rand_num,columns=[\"row1\",\"row2\"])\n",
    "df"
   ]
  },
  {
   "cell_type": "code",
   "execution_count": 10,
   "id": "bc7c6ec4",
   "metadata": {},
   "outputs": [
    {
     "data": {
      "text/html": [
       "<div>\n",
       "<style scoped>\n",
       "    .dataframe tbody tr th:only-of-type {\n",
       "        vertical-align: middle;\n",
       "    }\n",
       "\n",
       "    .dataframe tbody tr th {\n",
       "        vertical-align: top;\n",
       "    }\n",
       "\n",
       "    .dataframe thead th {\n",
       "        text-align: right;\n",
       "    }\n",
       "</style>\n",
       "<table border=\"1\" class=\"dataframe\">\n",
       "  <thead>\n",
       "    <tr style=\"text-align: right;\">\n",
       "      <th></th>\n",
       "      <th>col_1</th>\n",
       "      <th>col_2</th>\n",
       "    </tr>\n",
       "  </thead>\n",
       "  <tbody>\n",
       "    <tr>\n",
       "      <th>0</th>\n",
       "      <td>1</td>\n",
       "      <td>2</td>\n",
       "    </tr>\n",
       "    <tr>\n",
       "      <th>1</th>\n",
       "      <td>2</td>\n",
       "      <td>5</td>\n",
       "    </tr>\n",
       "    <tr>\n",
       "      <th>2</th>\n",
       "      <td>3</td>\n",
       "      <td>6</td>\n",
       "    </tr>\n",
       "  </tbody>\n",
       "</table>\n",
       "</div>"
      ],
      "text/plain": [
       "   col_1  col_2\n",
       "0      1      2\n",
       "1      2      5\n",
       "2      3      6"
      ]
     },
     "execution_count": 10,
     "metadata": {},
     "output_type": "execute_result"
    }
   ],
   "source": [
    "pd_dict = {\n",
    "    \"col_1\":[1,2,3],\n",
    "    \"col_2\":[2,5,6]\n",
    "          }\n",
    "# Create dataframe by dictionary\n",
    "df = pd.DataFrame(pd_dict)\n",
    "df"
   ]
  },
  {
   "cell_type": "code",
   "execution_count": 17,
   "id": "566c55ec",
   "metadata": {},
   "outputs": [
    {
     "data": {
      "text/html": [
       "<div>\n",
       "<style scoped>\n",
       "    .dataframe tbody tr th:only-of-type {\n",
       "        vertical-align: middle;\n",
       "    }\n",
       "\n",
       "    .dataframe tbody tr th {\n",
       "        vertical-align: top;\n",
       "    }\n",
       "\n",
       "    .dataframe thead th {\n",
       "        text-align: right;\n",
       "    }\n",
       "</style>\n",
       "<table border=\"1\" class=\"dataframe\">\n",
       "  <thead>\n",
       "    <tr style=\"text-align: right;\">\n",
       "      <th></th>\n",
       "      <th>Name</th>\n",
       "      <th>Age</th>\n",
       "    </tr>\n",
       "  </thead>\n",
       "  <tbody>\n",
       "    <tr>\n",
       "      <th>0</th>\n",
       "      <td>Vikram</td>\n",
       "      <td>20</td>\n",
       "    </tr>\n",
       "    <tr>\n",
       "      <th>1</th>\n",
       "      <td>Santhanam</td>\n",
       "      <td>20</td>\n",
       "    </tr>\n",
       "    <tr>\n",
       "      <th>2</th>\n",
       "      <td>Amar</td>\n",
       "      <td>20</td>\n",
       "    </tr>\n",
       "    <tr>\n",
       "      <th>3</th>\n",
       "      <td>Rolex</td>\n",
       "      <td>19</td>\n",
       "    </tr>\n",
       "  </tbody>\n",
       "</table>\n",
       "</div>"
      ],
      "text/plain": [
       "        Name  Age\n",
       "0     Vikram   20\n",
       "1  Santhanam   20\n",
       "2       Amar   20\n",
       "3      Rolex   19"
      ]
     },
     "execution_count": 17,
     "metadata": {},
     "output_type": "execute_result"
    }
   ],
   "source": [
    "# Add dataframe by list \n",
    "name_list = [\"Vikram\",20],[\"Santhanam\",20],[\"Amar\",20],[\"Rolex\",19]\n",
    "df = pd.DataFrame(name_list,columns=[\"Name\",\"Age\"])\n",
    "df"
   ]
  },
  {
   "cell_type": "markdown",
   "id": "5df4bad8",
   "metadata": {},
   "source": [
    "## 9.Generate series of date from 1st jan 2023 - 10 th feb 2023"
   ]
  },
  {
   "cell_type": "code",
   "execution_count": 13,
   "id": "c122c446",
   "metadata": {},
   "outputs": [],
   "source": [
    "# dataframe Generator \n",
    "df = pd.DataFrame()\n",
    "\n",
    "df[\"time\"] = pd.date_range(start =\"1/1/2023\",end =\"2/10/2023\",freq =\"24H\")\n",
    "\n",
    "df[\"year\"] =df[\"time\"].dt.year\n",
    "df[\"month\"] = df[\"time\"].dt.month\n",
    "df[\"day\"] = df[\"time\"].dt.day"
   ]
  },
  {
   "cell_type": "code",
   "execution_count": 14,
   "id": "58ae9067",
   "metadata": {},
   "outputs": [
    {
     "data": {
      "text/html": [
       "<div>\n",
       "<style scoped>\n",
       "    .dataframe tbody tr th:only-of-type {\n",
       "        vertical-align: middle;\n",
       "    }\n",
       "\n",
       "    .dataframe tbody tr th {\n",
       "        vertical-align: top;\n",
       "    }\n",
       "\n",
       "    .dataframe thead th {\n",
       "        text-align: right;\n",
       "    }\n",
       "</style>\n",
       "<table border=\"1\" class=\"dataframe\">\n",
       "  <thead>\n",
       "    <tr style=\"text-align: right;\">\n",
       "      <th></th>\n",
       "      <th>time</th>\n",
       "      <th>year</th>\n",
       "      <th>month</th>\n",
       "      <th>day</th>\n",
       "    </tr>\n",
       "  </thead>\n",
       "  <tbody>\n",
       "    <tr>\n",
       "      <th>0</th>\n",
       "      <td>2023-01-01</td>\n",
       "      <td>2023</td>\n",
       "      <td>1</td>\n",
       "      <td>1</td>\n",
       "    </tr>\n",
       "    <tr>\n",
       "      <th>1</th>\n",
       "      <td>2023-01-02</td>\n",
       "      <td>2023</td>\n",
       "      <td>1</td>\n",
       "      <td>2</td>\n",
       "    </tr>\n",
       "    <tr>\n",
       "      <th>2</th>\n",
       "      <td>2023-01-03</td>\n",
       "      <td>2023</td>\n",
       "      <td>1</td>\n",
       "      <td>3</td>\n",
       "    </tr>\n",
       "    <tr>\n",
       "      <th>3</th>\n",
       "      <td>2023-01-04</td>\n",
       "      <td>2023</td>\n",
       "      <td>1</td>\n",
       "      <td>4</td>\n",
       "    </tr>\n",
       "    <tr>\n",
       "      <th>4</th>\n",
       "      <td>2023-01-05</td>\n",
       "      <td>2023</td>\n",
       "      <td>1</td>\n",
       "      <td>5</td>\n",
       "    </tr>\n",
       "  </tbody>\n",
       "</table>\n",
       "</div>"
      ],
      "text/plain": [
       "        time  year  month  day\n",
       "0 2023-01-01  2023      1    1\n",
       "1 2023-01-02  2023      1    2\n",
       "2 2023-01-03  2023      1    3\n",
       "3 2023-01-04  2023      1    4\n",
       "4 2023-01-05  2023      1    5"
      ]
     },
     "execution_count": 14,
     "metadata": {},
     "output_type": "execute_result"
    }
   ],
   "source": [
    "df.head()"
   ]
  },
  {
   "cell_type": "markdown",
   "id": "a404a9e8",
   "metadata": {},
   "source": [
    "## 10. Create 2D list to dataframe"
   ]
  },
  {
   "cell_type": "code",
   "execution_count": 15,
   "id": "f1c81917",
   "metadata": {},
   "outputs": [
    {
     "data": {
      "text/html": [
       "<div>\n",
       "<style scoped>\n",
       "    .dataframe tbody tr th:only-of-type {\n",
       "        vertical-align: middle;\n",
       "    }\n",
       "\n",
       "    .dataframe tbody tr th {\n",
       "        vertical-align: top;\n",
       "    }\n",
       "\n",
       "    .dataframe thead th {\n",
       "        text-align: right;\n",
       "    }\n",
       "</style>\n",
       "<table border=\"1\" class=\"dataframe\">\n",
       "  <thead>\n",
       "    <tr style=\"text-align: right;\">\n",
       "      <th></th>\n",
       "      <th>col1</th>\n",
       "      <th>col2</th>\n",
       "      <th>col3</th>\n",
       "    </tr>\n",
       "  </thead>\n",
       "  <tbody>\n",
       "    <tr>\n",
       "      <th>0</th>\n",
       "      <td>1</td>\n",
       "      <td>aaa</td>\n",
       "      <td>22</td>\n",
       "    </tr>\n",
       "    <tr>\n",
       "      <th>1</th>\n",
       "      <td>2</td>\n",
       "      <td>bbb</td>\n",
       "      <td>25</td>\n",
       "    </tr>\n",
       "    <tr>\n",
       "      <th>2</th>\n",
       "      <td>3</td>\n",
       "      <td>ccc</td>\n",
       "      <td>24</td>\n",
       "    </tr>\n",
       "  </tbody>\n",
       "</table>\n",
       "</div>"
      ],
      "text/plain": [
       "   col1 col2  col3\n",
       "0     1  aaa    22\n",
       "1     2  bbb    25\n",
       "2     3  ccc    24"
      ]
     },
     "execution_count": 15,
     "metadata": {},
     "output_type": "execute_result"
    }
   ],
   "source": [
    "list_2d = [[1,\"aaa\",22],[2,\"bbb\",25],[3,\"ccc\",24]]\n",
    "df = pd.DataFrame(list_2d,columns=[\"col1\",\"col2\",\"col3\"])\n",
    "df"
   ]
  },
  {
   "cell_type": "code",
   "execution_count": null,
   "id": "ef2b0e5f",
   "metadata": {},
   "outputs": [],
   "source": []
  },
  {
   "cell_type": "code",
   "execution_count": null,
   "id": "405bf138",
   "metadata": {},
   "outputs": [],
   "source": []
  },
  {
   "cell_type": "code",
   "execution_count": null,
   "id": "0b9f7b4c",
   "metadata": {},
   "outputs": [],
   "source": []
  }
 ],
 "metadata": {
  "kernelspec": {
   "display_name": "Python 3",
   "language": "python",
   "name": "python3"
  },
  "language_info": {
   "codemirror_mode": {
    "name": "ipython",
    "version": 3
   },
   "file_extension": ".py",
   "mimetype": "text/x-python",
   "name": "python",
   "nbconvert_exporter": "python",
   "pygments_lexer": "ipython3",
   "version": "3.8.8"
  }
 },
 "nbformat": 4,
 "nbformat_minor": 5
}
